{
  "nbformat": 4,
  "nbformat_minor": 0,
  "metadata": {
    "colab": {
      "name": "ThreatAddition.ipynb",
      "provenance": [],
      "collapsed_sections": []
    },
    "kernelspec": {
      "name": "python3",
      "display_name": "Python 3"
    },
    "language_info": {
      "name": "python"
    }
  },
  "cells": [
    {
      "cell_type": "markdown",
      "source": [
        "# Name: Tushar Gavkhare\n",
        "# TYBTECH CS at MITAOE\n",
        "# colab link: https://colab.research.google.com/drive/1LMjUnIuFWN05AGIlnCljCni86HEujX7b?usp=sharing\n",
        "# github link (for readme): https://github.com/PrinceTG80/BaggageAI/blob/main/README.md"
      ],
      "metadata": {
        "id": "Gj3YrARrD74g"
      }
    },
    {
      "cell_type": "markdown",
      "source": [
        "###### install initialization"
      ],
      "metadata": {
        "id": "HMJL7pmn74V0"
      }
    },
    {
      "cell_type": "code",
      "source": [
        "pip install mediapipe"
      ],
      "metadata": {
        "colab": {
          "base_uri": "https://localhost:8080/"
        },
        "id": "Go6QXnIXVbaM",
        "outputId": "f9000ef4-3936-4770-847e-9f59c01b768c"
      },
      "execution_count": 1,
      "outputs": [
        {
          "output_type": "stream",
          "name": "stdout",
          "text": [
            "Collecting mediapipe\n",
            "  Downloading mediapipe-0.8.10-cp37-cp37m-manylinux_2_17_x86_64.manylinux2014_x86_64.whl (32.8 MB)\n",
            "\u001b[K     |████████████████████████████████| 32.8 MB 1.6 MB/s \n",
            "\u001b[?25hRequirement already satisfied: absl-py in /usr/local/lib/python3.7/dist-packages (from mediapipe) (1.0.0)\n",
            "Requirement already satisfied: matplotlib in /usr/local/lib/python3.7/dist-packages (from mediapipe) (3.2.2)\n",
            "Requirement already satisfied: protobuf>=3.11.4 in /usr/local/lib/python3.7/dist-packages (from mediapipe) (3.17.3)\n",
            "Requirement already satisfied: numpy in /usr/local/lib/python3.7/dist-packages (from mediapipe) (1.21.6)\n",
            "Requirement already satisfied: attrs>=19.1.0 in /usr/local/lib/python3.7/dist-packages (from mediapipe) (21.4.0)\n",
            "Requirement already satisfied: opencv-contrib-python in /usr/local/lib/python3.7/dist-packages (from mediapipe) (4.1.2.30)\n",
            "Requirement already satisfied: six>=1.9 in /usr/local/lib/python3.7/dist-packages (from protobuf>=3.11.4->mediapipe) (1.15.0)\n",
            "Requirement already satisfied: python-dateutil>=2.1 in /usr/local/lib/python3.7/dist-packages (from matplotlib->mediapipe) (2.8.2)\n",
            "Requirement already satisfied: cycler>=0.10 in /usr/local/lib/python3.7/dist-packages (from matplotlib->mediapipe) (0.11.0)\n",
            "Requirement already satisfied: kiwisolver>=1.0.1 in /usr/local/lib/python3.7/dist-packages (from matplotlib->mediapipe) (1.4.2)\n",
            "Requirement already satisfied: pyparsing!=2.0.4,!=2.1.2,!=2.1.6,>=2.0.1 in /usr/local/lib/python3.7/dist-packages (from matplotlib->mediapipe) (3.0.9)\n",
            "Requirement already satisfied: typing-extensions in /usr/local/lib/python3.7/dist-packages (from kiwisolver>=1.0.1->matplotlib->mediapipe) (4.2.0)\n",
            "Installing collected packages: mediapipe\n",
            "Successfully installed mediapipe-0.8.10\n"
          ]
        }
      ]
    },
    {
      "cell_type": "markdown",
      "source": [
        "#### Drive mount for data"
      ],
      "metadata": {
        "id": "l_G3L0WO8Fs7"
      }
    },
    {
      "cell_type": "code",
      "execution_count": 2,
      "metadata": {
        "colab": {
          "base_uri": "https://localhost:8080/"
        },
        "id": "XKsO1tg3SY1l",
        "outputId": "45ffb5cb-113f-43ee-a3b1-abcdc4767549"
      },
      "outputs": [
        {
          "output_type": "stream",
          "name": "stdout",
          "text": [
            "Mounted at /content/drive\n"
          ]
        }
      ],
      "source": [
        "from google.colab import drive\n",
        "drive.mount('/content/drive')"
      ]
    },
    {
      "cell_type": "code",
      "source": [
        "import os\n",
        "import pandas as pd \n",
        "import numpy as np\n",
        "from PIL import Image\n",
        "from numpy import asarray\n",
        "\n",
        "sdir=r'/content/drive/MyDrive/BaggageAI_CV_Hiring_Assignment/BaggageAI_CV_Hiring_Assignment'\n",
        "classlist=os.listdir(sdir)    \n",
        "\n",
        "\n",
        "print(classlist)"
      ],
      "metadata": {
        "colab": {
          "base_uri": "https://localhost:8080/"
        },
        "id": "dtQe6SYsUG1z",
        "outputId": "43821de1-8a83-4ace-8739-8fbe394d6b76"
      },
      "execution_count": 3,
      "outputs": [
        {
          "output_type": "stream",
          "name": "stdout",
          "text": [
            "['BaggageAI_CV_Hiring_assignment.pdf', 'background_images', 'threat_images', 'sample_output_images']\n"
          ]
        }
      ]
    },
    {
      "cell_type": "code",
      "source": [
        "classlist=os.listdir(sdir + \"/threat_images\")\n",
        "print(classlist)"
      ],
      "metadata": {
        "colab": {
          "base_uri": "https://localhost:8080/"
        },
        "id": "7iJdbwY0Ufk-",
        "outputId": "cc4d2a1b-3739-417b-ba30-20c690d049e7"
      },
      "execution_count": 4,
      "outputs": [
        {
          "output_type": "stream",
          "name": "stdout",
          "text": [
            "['BAGGAGE_20170522_113049_80428_A.jpg', 'BAGGAGE_20170523_094231_80428_B.jpg', 'BAGGAGE_20170522_115645_80428_B.jpg', 'BAGGAGE_20170523_085803_80428_D.jpg', 'BAGGAGE_20170524_075554_80428_B.jpg']\n"
          ]
        }
      ]
    },
    {
      "cell_type": "code",
      "source": [
        "# import necessary packages\n",
        "import os\n",
        "import cv2\n",
        "import numpy as np\n",
        "import mediapipe as mp\n",
        "# store background images in a list\n",
        "image_path = sdir + \"/threat_images\"\n",
        "images = os.listdir(image_path)\n",
        "image_pathback = sdir + \"/background_images\"\n",
        "images_back = os.listdir(image_pathback)\n",
        "print(images_back,images)"
      ],
      "metadata": {
        "colab": {
          "base_uri": "https://localhost:8080/"
        },
        "id": "9-J0I1-aUsvZ",
        "outputId": "08c2b54c-f28f-445d-fb3c-b7b509187b8f"
      },
      "execution_count": 5,
      "outputs": [
        {
          "output_type": "stream",
          "name": "stdout",
          "text": [
            "['BAGGAGE_20180811_175328_83216_A_1.jpg', 'BAGGAGE_20180811_175323_83216_B_1.jpg', 'S0210209058_20180811232942_L-1_1.jpg', 'S0320365070_20180821160850_L-12_5.jpg', 'S0300542812_20180822020845_L-10_1.jpg', '.ipynb_checkpoints'] ['BAGGAGE_20170522_113049_80428_A.jpg', 'BAGGAGE_20170523_094231_80428_B.jpg', 'BAGGAGE_20170522_115645_80428_B.jpg', 'BAGGAGE_20170523_085803_80428_D.jpg', 'BAGGAGE_20170524_075554_80428_B.jpg']\n"
          ]
        }
      ]
    },
    {
      "cell_type": "markdown",
      "source": [
        "#### Cropping data to extract thing"
      ],
      "metadata": {
        "id": "VYbSBeiS8OxC"
      }
    },
    {
      "cell_type": "code",
      "source": [
        "# Delete directories in Python using shutil\n",
        "import shutil\n",
        "path = 'Cropped'\n",
        "shutil.rmtree(path, ignore_errors=True)"
      ],
      "metadata": {
        "id": "ffC61FFqqVi3"
      },
      "execution_count": 6,
      "outputs": []
    },
    {
      "cell_type": "code",
      "source": [
        "import numpy as np\n",
        "import cv2\n",
        "from PIL import Image, ImageDraw, ImageFilter\n",
        "from google.colab.patches import cv2_imshow\n",
        "from skimage.transform import resize\n",
        "import matplotlib.pyplot as plt\n",
        "from scipy import ndimage, misc\n",
        "\n",
        "os.mkdir('Cropped')\n",
        "\n",
        "for filename in images:\n",
        "  img = cv2.imread(sdir + \"/threat_images/\" + filename) # Read in the image and convert to grayscale\n",
        "  gray = cv2.cvtColor(img, cv2.COLOR_BGR2GRAY)\n",
        "  gray = 255*(gray < 245).astype(np.uint8) # To invert the text to white\n",
        "  coords = cv2.findNonZero(gray) # Find all non-zero points (text)\n",
        "  x, y, w, h = cv2.boundingRect(coords) # Find minimum spanning bounding box\n",
        "  rect = img[y:y+h, x:x+w] # Crop the image - note we do this on the original image\n",
        "  # resized_img = resize(rect, (32, 32))\\\n",
        "  imgn = cv2.cvtColor(rect, cv2.COLOR_BGR2RGB)\n",
        "  # imgn = 255*(imgn>250).astype(np.uint8)\n",
        "  plt.axis(\"off\")\n",
        "  plt.imshow(imgn)\n",
        "  cv2.waitKey(0)\n",
        "  cv2.destroyAllWindows()\n",
        "  plt.imsave(\"Cropped/\"+filename, imgn) # Save the image"
      ],
      "metadata": {
        "colab": {
          "base_uri": "https://localhost:8080/",
          "height": 187
        },
        "id": "4wuH_euj1JpL",
        "outputId": "f5c95d78-79ce-4679-92a8-546b3598645a"
      },
      "execution_count": 7,
      "outputs": [
        {
          "output_type": "display_data",
          "data": {
            "text/plain": [
              "<Figure size 432x288 with 1 Axes>"
            ],
            "image/png": "[encoded data removed]"
          },
          "metadata": {
            "needs_background": "light"
          }
        }
      ]
    },
    {
      "cell_type": "code",
      "source": [
        "imgx = Image.open(sdir + \"/background_images/\" + images_back[1])\n",
        "print(imgx.size)"
      ],
      "metadata": {
        "colab": {
          "base_uri": "https://localhost:8080/"
        },
        "id": "9CHbHMAtcFZY",
        "outputId": "ae4544da-b2ab-46a4-e1ca-eab75f1b21ae"
      },
      "execution_count": 8,
      "outputs": [
        {
          "output_type": "stream",
          "name": "stdout",
          "text": [
            "(290, 377)\n"
          ]
        }
      ]
    },
    {
      "cell_type": "markdown",
      "source": [
        "#### create background image and place threat then after transformation adding those to specified background"
      ],
      "metadata": {
        "id": "WUWwLvHa8div"
      }
    },
    {
      "cell_type": "code",
      "source": [
        "import numpy as np\n",
        "img_back = np.zeros([377,290,3],dtype=np.uint8)\n",
        "img_back.fill(255) # or img[:] = 255\n",
        "plt.imsave(\"backgroundx.jpg\",img_back)"
      ],
      "metadata": {
        "id": "ZHys9fKYfpw8"
      },
      "execution_count": 9,
      "outputs": []
    },
    {
      "cell_type": "code",
      "source": [
        "# Delete directories in Python using shutil\n",
        "import shutil\n",
        "path = 'Outputcheck'\n",
        "shutil.rmtree(path, ignore_errors=True)"
      ],
      "metadata": {
        "id": "1cdBO8quBQqb"
      },
      "execution_count": 10,
      "outputs": []
    },
    {
      "cell_type": "code",
      "source": [
        "import cv2\n",
        "import numpy as np\n",
        "from PIL import Image, ImageDraw, ImageFilter\n",
        "import skimage.data\n",
        "from skimage.transform import resize\n",
        "import matplotlib.pyplot as plt\n",
        "\n",
        "os.mkdir(\"Outputcheck\")\n",
        "\n",
        "for i in images:\n",
        "      # load image\n",
        "      img1 = Image.open(\"backgroundx.jpg\")\n",
        "      print(img1.size)\n",
        "\n",
        "      im = Image.open(\"Cropped/\"+i)\n",
        "      width , height = im.size\n",
        "      im_rgb = im.resize((int(width/2),int(height/2)))\n",
        "      im_rgb = im_rgb.rotate(45,expand = 'True',fillcolor = (255,255,255))\n",
        "      \n",
        "      im_rgba = im_rgb.copy()\n",
        "      im_rgba.putalpha(188)\n",
        "      im_rgba.save(i[:-4] + \".png\")\n",
        "\n",
        "      img = cv2.imread(i[:-4] + \".png\")\n",
        "\n",
        "      # convert to graky\n",
        "      gray = cv2.cvtColor(img, cv2.COLOR_BGR2GRAY)\n",
        "\n",
        "      # threshold input image as mask\n",
        "      mask = cv2.threshold(gray, 250, 255, cv2.THRESH_BINARY)[1]\n",
        "\n",
        "      # negate mask\n",
        "      mask = 255 - mask\n",
        "\n",
        "      # apply morphology to remove isolated extraneous noise\n",
        "      # use borderconstant of black since foreground touches the edges\n",
        "      kernel = np.ones((3,3), np.uint8)\n",
        "      mask = cv2.morphologyEx(mask, cv2.MORPH_OPEN, kernel)\n",
        "      mask = cv2.morphologyEx(mask, cv2.MORPH_CLOSE, kernel)\n",
        "\n",
        "      # anti-alias the mask -- blur then stretch\n",
        "      # blur alpha channel\n",
        "      mask = cv2.GaussianBlur(mask, (0,0), sigmaX=2, sigmaY=2, borderType = cv2.BORDER_DEFAULT)\n",
        "\n",
        "      # linear stretch so that 127.5 goes to 0, but 255 stays 255\n",
        "      mask = (2*(mask.astype(np.float32))-255.0).clip(0,255).astype(np.uint8)\n",
        "\n",
        "      # put mask into alpha channel\n",
        "      result = img.copy()\n",
        "      result = cv2.cvtColor(result, cv2.COLOR_BGR2RGBA)\n",
        "      result[:, :, 3] = mask\n",
        "      # save resulting masked image\n",
        "\n",
        "      plt.imsave(i[:-4] + '_threat.png', result, cmap=\"gray\")\n",
        "      # cv2.imwrite(i[:-4] + '_threat.png', resized_img)\n",
        "      img2 = Image.open(i[:-4] + '_threat.png')\n",
        "\n",
        "      img1.paste(img2, (30,200), mask = img2)\n",
        "      img1.save(\"Outputcheck/\"+ i[:-4]+\".png\")\n",
        "\n",
        "# display result, though it won't show transparency\n",
        "# cv2.imshow(\"INPUT\", img)\n",
        "# cv2.imshow(\"GRAY\", gray)\n",
        "# cv2.imshow(\"MASK\", mask)\n",
        "# cv2.imshow(\"RESULT\", result)\n",
        "cv2.waitKey(0)\n",
        "cv2.destroyAllWindows()"
      ],
      "metadata": {
        "colab": {
          "base_uri": "https://localhost:8080/"
        },
        "id": "6Phy0szFW8S-",
        "outputId": "cffa3517-bade-481e-b94d-fa6726428463"
      },
      "execution_count": 11,
      "outputs": [
        {
          "output_type": "stream",
          "name": "stdout",
          "text": [
            "(290, 377)\n",
            "(290, 377)\n",
            "(290, 377)\n",
            "(290, 377)\n",
            "(290, 377)\n"
          ]
        }
      ]
    },
    {
      "cell_type": "markdown",
      "source": [
        "### Add weights of background and overlay"
      ],
      "metadata": {
        "id": "pD6cHTt5DmDS"
      }
    },
    {
      "cell_type": "code",
      "source": [
        "# Delete directories in Python using shutil\n",
        "import shutil\n",
        "path = 'OUTPUT'\n",
        "shutil.rmtree(path, ignore_errors=True)"
      ],
      "metadata": {
        "id": "Tn6FhhxTBgDt"
      },
      "execution_count": 12,
      "outputs": []
    },
    {
      "cell_type": "code",
      "source": [
        "import cv2\n",
        "os.mkdir(\"OUTPUT\")\n",
        "outcheck = os.listdir(\"Outputcheck\")\n",
        "background = cv2.imread(sdir + \"/background_images/\" + images_back[1])\n",
        "for i in outcheck:\n",
        "  overlay = cv2.imread(\"Outputcheck/\"+ i)\n",
        "  added_image = cv2.addWeighted(background,0.4,overlay,0.5,1)\n",
        "  cv2.imwrite(\"OUTPUT/\" + i, added_image)"
      ],
      "metadata": {
        "id": "Jtej_QlpQ2gx"
      },
      "execution_count": 13,
      "outputs": []
    }
  ]
}